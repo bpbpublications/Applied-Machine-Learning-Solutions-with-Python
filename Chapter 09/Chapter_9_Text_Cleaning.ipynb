{
  "nbformat": 4,
  "nbformat_minor": 0,
  "metadata": {
    "colab": {
      "name": "Chapter_9_Text Cleaning .ipynb",
      "provenance": []
    },
    "kernelspec": {
      "name": "python3",
      "display_name": "Python 3"
    }
  },
  "cells": [
    {
      "cell_type": "markdown",
      "metadata": {
        "id": "D3nKV6k7WNbH"
      },
      "source": [
        "## Handling contractions"
      ]
    },
    {
      "cell_type": "code",
      "metadata": {
        "id": "jAB0Ij7KV_p_"
      },
      "source": [
        "! pip install contractions"
      ],
      "execution_count": 3,
      "outputs": []
    },
    {
      "cell_type": "code",
      "metadata": {
        "colab": {
          "base_uri": "https://localhost:8080/",
          "height": 36
        },
        "id": "tWLFHjH6V90Z",
        "outputId": "1385ce44-fe88-478e-f587-dc17f93456ca"
      },
      "source": [
        "import contractions\n",
        "contractions.fix(\"you're happy now\")"
      ],
      "execution_count": 4,
      "outputs": [
        {
          "output_type": "execute_result",
          "data": {
            "application/vnd.google.colaboratory.intrinsic+json": {
              "type": "string"
            },
            "text/plain": [
              "'you are happy now'"
            ]
          },
          "metadata": {
            "tags": []
          },
          "execution_count": 4
        }
      ]
    },
    {
      "cell_type": "markdown",
      "metadata": {
        "id": "YkRIDA6rWK7n"
      },
      "source": [
        "## Removing Special Characters"
      ]
    },
    {
      "cell_type": "code",
      "metadata": {
        "colab": {
          "base_uri": "https://localhost:8080/",
          "height": 36
        },
        "id": "h2wbLwtDWE-g",
        "outputId": "90d4598d-1843-46d5-bb5e-0ce30ac6f5b3"
      },
      "source": [
        "import re\n",
        "re.sub(r'[^a-zA-Z0-9\\s]', '', 'abcd1249==-9]')"
      ],
      "execution_count": 5,
      "outputs": [
        {
          "output_type": "execute_result",
          "data": {
            "application/vnd.google.colaboratory.intrinsic+json": {
              "type": "string"
            },
            "text/plain": [
              "'abcd12499'"
            ]
          },
          "metadata": {
            "tags": []
          },
          "execution_count": 5
        }
      ]
    },
    {
      "cell_type": "markdown",
      "metadata": {
        "id": "lw4FeOb0WQAe"
      },
      "source": [
        "## Stemming and Lemmatization"
      ]
    },
    {
      "cell_type": "code",
      "metadata": {
        "colab": {
          "base_uri": "https://localhost:8080/"
        },
        "id": "b7gHq6OaWX0u",
        "outputId": "d2d5c5e1-22bc-488e-a16c-432d7a13b8f6"
      },
      "source": [
        "import nltk\n",
        "\n",
        "text = \"I am playing cricket and yesterday I played badminton\"\n",
        "ps = nltk.porter.PorterStemmer()\n",
        "text = ' '.join([ps.stem(word) for word in text.split()])\n",
        "print(text)\n"
      ],
      "execution_count": 6,
      "outputs": [
        {
          "output_type": "stream",
          "text": [
            "I am play cricket and yesterday I play badminton\n"
          ],
          "name": "stdout"
        }
      ]
    },
    {
      "cell_type": "code",
      "metadata": {
        "colab": {
          "base_uri": "https://localhost:8080/",
          "height": 36
        },
        "id": "p1sDW2VnZAKR",
        "outputId": "512c1c4c-aacb-4a30-cd07-0d4bb043651e"
      },
      "source": [
        "import spacy\n",
        "nlp = spacy.load('en')\n",
        "text = \"I am playing cricket and yesterday I played badminton\"\n",
        "text = nlp(text)\n",
        "text = ' '.join([word.lemma_ if word.lemma_ != '-PRON-' else word.text for word in text])\n",
        "text"
      ],
      "execution_count": 7,
      "outputs": [
        {
          "output_type": "execute_result",
          "data": {
            "application/vnd.google.colaboratory.intrinsic+json": {
              "type": "string"
            },
            "text/plain": [
              "'I be play cricket and yesterday I play badminton'"
            ]
          },
          "metadata": {
            "tags": []
          },
          "execution_count": 7
        }
      ]
    },
    {
      "cell_type": "code",
      "metadata": {
        "id": "GF6HUZ-xZddi"
      },
      "source": [
        ""
      ],
      "execution_count": null,
      "outputs": []
    }
  ]
}