{
  "nbformat": 4,
  "nbformat_minor": 0,
  "metadata": {
    "colab": {
      "name": "Chapter - 1.ipynb",
      "provenance": []
    },
    "kernelspec": {
      "name": "python3",
      "display_name": "Python 3"
    },
    "language_info": {
      "name": "python"
    }
  },
  "cells": [
    {
      "cell_type": "markdown",
      "metadata": {
        "id": "mbeeqyCOGF6b"
      },
      "source": [
        "## Functions in Python"
      ]
    },
    {
      "cell_type": "code",
      "metadata": {
        "colab": {
          "base_uri": "https://localhost:8080/"
        },
        "id": "8ycnkdEDFx3b",
        "outputId": "881e05c4-a344-408b-c282-ad049bb7cc85"
      },
      "source": [
        "def print_dict(somedict: dict) -> None:\n",
        "        \"\"\"Prints key -> value of dictionary\"\"\"\n",
        "        for key, value in somedict.items():\n",
        "            print(f\"{key} -> {value}\")\n",
        "print_dict({\"a\": 1, \"b\": 2, \"c\": 3}) "
      ],
      "execution_count": 2,
      "outputs": [
        {
          "output_type": "stream",
          "text": [
            "a -> 1\n",
            "b -> 2\n",
            "c -> 3\n"
          ],
          "name": "stdout"
        }
      ]
    },
    {
      "cell_type": "markdown",
      "metadata": {
        "id": "07RNX0cuGDB0"
      },
      "source": [
        "## List Comprehension"
      ]
    },
    {
      "cell_type": "code",
      "metadata": {
        "colab": {
          "base_uri": "https://localhost:8080/"
        },
        "id": "JvtS4dD7F2R9",
        "outputId": "a93793ef-6792-4cb4-dbcd-e4bc8753053d"
      },
      "source": [
        "[i for i in range(20) if i%2==0] # this gives all even numbers from 0-19 in a single line of code."
      ],
      "execution_count": 3,
      "outputs": [
        {
          "output_type": "execute_result",
          "data": {
            "text/plain": [
              "[0, 2, 4, 6, 8, 10, 12, 14, 16, 18]"
            ]
          },
          "metadata": {
            "tags": []
          },
          "execution_count": 3
        }
      ]
    },
    {
      "cell_type": "markdown",
      "metadata": {
        "id": "DOiDyFCHGK8b"
      },
      "source": [
        "# `with` Keyword"
      ]
    },
    {
      "cell_type": "code",
      "metadata": {
        "id": "UPViWGyOGPrj"
      },
      "source": [
        "with open('some_file.txt', 'w') as opened_file:\n",
        "    opened_file.write('Hello World!')"
      ],
      "execution_count": 4,
      "outputs": []
    },
    {
      "cell_type": "code",
      "metadata": {
        "colab": {
          "base_uri": "https://localhost:8080/"
        },
        "id": "gv0FcKQfGXJL",
        "outputId": "fefdd49e-0bc1-49c9-bd83-8476ec804284"
      },
      "source": [
        "! ls -lh"
      ],
      "execution_count": 5,
      "outputs": [
        {
          "output_type": "stream",
          "text": [
            "total 8.0K\n",
            "drwxr-xr-x 1 root root 4.0K May  6 13:44 sample_data\n",
            "-rw-r--r-- 1 root root   12 May 23 02:41 some_file.txt\n"
          ],
          "name": "stdout"
        }
      ]
    },
    {
      "cell_type": "code",
      "metadata": {
        "colab": {
          "base_uri": "https://localhost:8080/"
        },
        "id": "6_Ps-UhSGYQ0",
        "outputId": "b89c538a-45ca-4c47-ab9c-b6f9acee637d"
      },
      "source": [
        "! cat some_file.txt"
      ],
      "execution_count": 6,
      "outputs": [
        {
          "output_type": "stream",
          "text": [
            "Hello World!"
          ],
          "name": "stdout"
        }
      ]
    },
    {
      "cell_type": "code",
      "metadata": {
        "id": "cbspLAbmGbPD"
      },
      "source": [
        ""
      ],
      "execution_count": null,
      "outputs": []
    }
  ]
}